{
  "cells": [
    {
      "cell_type": "code",
      "execution_count": 8,
      "metadata": {
        "id": "V_-C6N_TQ1t8"
      },
      "outputs": [],
      "source": [
        "import sys; sys.path.append('../Preprocess/');\n",
        "from preprocess import *\n",
        "from sklearn.model_selection import train_test_split\n",
        "from sklearn.metrics import f1_score, accuracy_score, precision_score, recall_score, make_scorer\n",
        "from sklearn.svm import SVC\n",
        "from sklearn.ensemble import RandomForestClassifier\n",
        "import numpy as np\n",
        "import pandas as pd"
      ]
    },
    {
      "cell_type": "code",
      "execution_count": 9,
      "metadata": {
        "id": "pGgYzy6vQ1uA"
      },
      "outputs": [],
      "source": [
        "df = pd.read_csv('../Dataset/body_level_classification_train.csv')"
      ]
    },
    {
      "cell_type": "code",
      "execution_count": 10,
      "metadata": {
        "id": "guhDLuNbQ1uB"
      },
      "outputs": [],
      "source": [
        "df_p = preprocess(df, resample_=True)"
      ]
    },
    {
      "cell_type": "code",
      "execution_count": 11,
      "metadata": {
        "id": "xeINhKI1Q1uB"
      },
      "outputs": [],
      "source": [
        "X_train, X_test, y_train, y_test = train_test_split(df_p.iloc[:, :-1], df_p.iloc[:, -1], test_size=0.2, random_state=0)"
      ]
    },
    {
      "cell_type": "code",
      "execution_count": 12,
      "metadata": {
        "id": "gXOCYIgBTp4f"
      },
      "outputs": [],
      "source": [
        "scorer = make_scorer(f1_score, average='weighted')"
      ]
    },
    {
      "cell_type": "code",
      "execution_count": 16,
      "metadata": {
        "id": "g_hbMPI8VBcI"
      },
      "outputs": [],
      "source": [
        "!mkdir Results/"
      ]
    },
    {
      "cell_type": "code",
      "execution_count": 21,
      "metadata": {
        "id": "FICuoxAxQ1uC"
      },
      "outputs": [],
      "source": [
        "# GridSearch\n",
        "from sklearn.model_selection import GridSearchCV\n",
        "from sklearn.metrics import classification_report\n",
        "from sklearn.metrics import confusion_matrix\n",
        "\n",
        "# SVM\n",
        "param_grid = {'C': [0.1, 1, 3, 5, 7, 10, 12, 14, 15],\n",
        "                'gamma': [4, 2, 1, 0.1, 0.01, 0.001, 0.0001],\n",
        "                'kernel': ['rbf', 'poly', 'sigmoid', 'linear']}\n",
        "\n",
        "grid = GridSearchCV(SVC(), param_grid, refit=True, cv=5, scoring=scorer)\n",
        "grid.fit(X_train, y_train)\n",
        "# output the cv result to csv\n",
        "pd.DataFrame(grid.cv_results_).to_csv('Results/svm_grid_search_cv.csv')\n"
      ]
    },
    {
      "cell_type": "code",
      "execution_count": 23,
      "metadata": {
        "colab": {
          "base_uri": "https://localhost:8080/"
        },
        "id": "LQ9Wf0J6Q1uC",
        "outputId": "915eeb5b-ac4b-4d66-cea9-d1b9bd71ea70"
      },
      "outputs": [
        {
          "name": "stdout",
          "output_type": "stream",
          "text": [
            "{'C': 15, 'gamma': 4, 'kernel': 'linear'}\n",
            "SVC(C=15, gamma=4, kernel='linear')\n",
            "              precision    recall  f1-score   support\n",
            "\n",
            "           1       0.98      1.00      0.99       132\n",
            "           2       0.99      0.97      0.98       138\n",
            "           3       0.99      0.98      0.99       125\n",
            "           4       0.99      1.00      1.00       149\n",
            "\n",
            "    accuracy                           0.99       544\n",
            "   macro avg       0.99      0.99      0.99       544\n",
            "weighted avg       0.99      0.99      0.99       544\n",
            "\n",
            "[[132   0   0   0]\n",
            " [  3 134   1   0]\n",
            " [  0   1 123   1]\n",
            " [  0   0   0 149]]\n",
            "0.9889430690248693\n"
          ]
        }
      ],
      "source": [
        "\n",
        "print(grid.best_params_)\n",
        "print(grid.best_estimator_)\n",
        "grid_predictions = grid.predict(X_test)\n",
        "print(classification_report(y_test, grid_predictions))\n",
        "print(confusion_matrix(y_test, grid_predictions))      \n",
        "# print f1 score\n",
        "print(f1_score(y_test, grid_predictions, average='weighted'))        \n"
      ]
    },
    {
      "cell_type": "code",
      "execution_count": 19,
      "metadata": {
        "id": "tj5G9CRrQ1uD"
      },
      "outputs": [],
      "source": [
        "# Random Forest\n",
        "param_grid = {'n_estimators': [10, 50, 100, 200, 500],\n",
        "                'max_features': ['sqrt', 'log2'],\n",
        "                'max_depth' : [4,6,8,12, 16],\n",
        "                'criterion' :['gini', 'entropy']}\n",
        "grid = GridSearchCV(RandomForestClassifier(), param_grid, refit=True, cv=5, scoring=scorer)\n",
        "grid.fit(X_train, y_train)\n",
        "# output cv results to csv\n",
        "pd.DataFrame(grid.cv_results_).to_csv( 'Results/random_forest_grid_search_results.csv')"
      ]
    },
    {
      "cell_type": "code",
      "execution_count": 20,
      "metadata": {
        "colab": {
          "base_uri": "https://localhost:8080/"
        },
        "id": "gwCLuq4xQ1uE",
        "outputId": "2f1496c1-8869-4f90-b025-bf073cf3372d"
      },
      "outputs": [
        {
          "name": "stdout",
          "output_type": "stream",
          "text": [
            "{'criterion': 'entropy', 'max_depth': 12, 'max_features': 'sqrt', 'n_estimators': 100}\n",
            "RandomForestClassifier(criterion='entropy', max_depth=12)\n",
            "              precision    recall  f1-score   support\n",
            "\n",
            "           1       1.00      1.00      1.00       132\n",
            "           2       1.00      0.99      0.99       138\n",
            "           3       0.98      0.98      0.98       125\n",
            "           4       0.99      1.00      0.99       149\n",
            "\n",
            "    accuracy                           0.99       544\n",
            "   macro avg       0.99      0.99      0.99       544\n",
            "weighted avg       0.99      0.99      0.99       544\n",
            "\n",
            "[[132   0   0   0]\n",
            " [  0 136   2   0]\n",
            " [  0   0 123   2]\n",
            " [  0   0   0 149]]\n",
            "0.9926458959496207\n"
          ]
        }
      ],
      "source": [
        "# print best parameter after tuning\n",
        "print(grid.best_params_)\n",
        "print(grid.best_estimator_)\n",
        "grid_predictions = grid.predict(X_test)\n",
        "print(classification_report(y_test, grid_predictions))\n",
        "print(confusion_matrix(y_test, grid_predictions))\n",
        "# print f1 score\n",
        "print(f1_score(y_test, grid_predictions, average='weighted'))\n"
      ]
    },
    {
      "cell_type": "code",
      "execution_count": null,
      "metadata": {
        "id": "Mg2kTbuIQ1uE"
      },
      "outputs": [],
      "source": []
    }
  ],
  "metadata": {
    "colab": {
      "provenance": []
    },
    "kernelspec": {
      "display_name": "Python 3 (ipykernel)",
      "language": "python",
      "name": "python3"
    },
    "language_info": {
      "codemirror_mode": {
        "name": "ipython",
        "version": 3
      },
      "file_extension": ".py",
      "mimetype": "text/x-python",
      "name": "python",
      "nbconvert_exporter": "python",
      "pygments_lexer": "ipython3",
      "version": "3.10.6"
    }
  },
  "nbformat": 4,
  "nbformat_minor": 0
}
