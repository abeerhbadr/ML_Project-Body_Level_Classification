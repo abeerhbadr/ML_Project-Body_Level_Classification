{
  "cells": [
    {
      "cell_type": "code",
      "execution_count": 18,
      "metadata": {
        "id": "V_-C6N_TQ1t8"
      },
      "outputs": [],
      "source": [
        "import sys; sys.path.append('../Preprocess/');\n",
        "from preprocess import *\n",
        "from sklearn.model_selection import train_test_split\n",
        "from sklearn.metrics import f1_score, accuracy_score, precision_score, recall_score, make_scorer\n",
        "from sklearn.svm import SVC\n",
        "from sklearn.ensemble import RandomForestClassifier\n",
        "import numpy as np\n",
        "import pandas as pd\n",
        "from lightgbm import LGBMClassifier\n",
        "from xgboost import XGBClassifier"
      ]
    },
    {
      "cell_type": "code",
      "execution_count": 11,
      "metadata": {
        "id": "pGgYzy6vQ1uA"
      },
      "outputs": [],
      "source": [
        "df = pd.read_csv('../Dataset/body_level_classification_train.csv')"
      ]
    },
    {
      "cell_type": "code",
      "execution_count": 12,
      "metadata": {
        "id": "guhDLuNbQ1uB"
      },
      "outputs": [],
      "source": [
        "df_p = preprocess(df, resample_=True)"
      ]
    },
    {
      "cell_type": "code",
      "execution_count": 13,
      "metadata": {
        "id": "xeINhKI1Q1uB"
      },
      "outputs": [],
      "source": [
        "X_train, X_test, y_train, y_test = train_test_split(df_p.iloc[:, :-1], df_p.iloc[:, -1], test_size=0.2, random_state=0)"
      ]
    },
    {
      "cell_type": "code",
      "execution_count": 14,
      "metadata": {
        "id": "gXOCYIgBTp4f"
      },
      "outputs": [],
      "source": [
        "scorer = make_scorer(f1_score, average='weighted')"
      ]
    },
    {
      "cell_type": "code",
      "execution_count": 6,
      "metadata": {
        "colab": {
          "base_uri": "https://localhost:8080/"
        },
        "id": "g_hbMPI8VBcI",
        "outputId": "79670300-66d2-4b9f-fca5-c32d5437756e"
      },
      "outputs": [
        {
          "name": "stderr",
          "output_type": "stream",
          "text": [
            "The syntax of the command is incorrect.\n"
          ]
        }
      ],
      "source": [
        "!mkdir Results/"
      ]
    },
    {
      "cell_type": "code",
      "execution_count": null,
      "metadata": {
        "id": "FICuoxAxQ1uC"
      },
      "outputs": [],
      "source": [
        "# GridSearch\n",
        "from sklearn.model_selection import GridSearchCV\n",
        "from sklearn.metrics import classification_report\n",
        "from sklearn.metrics import confusion_matrix\n",
        "\n",
        "# SVM\n",
        "param_grid = {'C': [0.1, 1, 3, 5, 7, 10, 12, 14, 15],\n",
        "                'gamma': [4, 2, 1, 0.1, 0.01, 0.001, 0.0001],\n",
        "                'kernel': ['rbf', 'poly', 'sigmoid', 'linear']}\n",
        "\n",
        "grid = GridSearchCV(SVC(), param_grid, refit=True, cv=5, scoring=scorer)\n",
        "grid.fit(X_train, y_train)\n",
        "# output the cv result to csv\n",
        "pd.DataFrame(grid.cv_results_).to_csv('Results/svm_grid_search_cv.csv')\n"
      ]
    },
    {
      "cell_type": "code",
      "execution_count": null,
      "metadata": {
        "colab": {
          "base_uri": "https://localhost:8080/"
        },
        "id": "LQ9Wf0J6Q1uC",
        "outputId": "977200e4-33b6-436c-cf02-9462d54ad01b"
      },
      "outputs": [
        {
          "name": "stdout",
          "output_type": "stream",
          "text": [
            "{'C': 15, 'gamma': 4, 'kernel': 'linear'}\n",
            "SVC(C=15, gamma=4, kernel='linear')\n",
            "              precision    recall  f1-score   support\n",
            "\n",
            "           1       0.98      1.00      0.99       132\n",
            "           2       0.99      0.97      0.98       138\n",
            "           3       0.99      0.98      0.99       125\n",
            "           4       0.99      1.00      1.00       149\n",
            "\n",
            "    accuracy                           0.99       544\n",
            "   macro avg       0.99      0.99      0.99       544\n",
            "weighted avg       0.99      0.99      0.99       544\n",
            "\n",
            "[[132   0   0   0]\n",
            " [  3 134   1   0]\n",
            " [  0   1 123   1]\n",
            " [  0   0   0 149]]\n",
            "0.9889430690248693\n"
          ]
        }
      ],
      "source": [
        "\n",
        "print(grid.best_params_)\n",
        "print(grid.best_estimator_)\n",
        "grid_predictions = grid.predict(X_test)\n",
        "print(classification_report(y_test, grid_predictions, digits=4))\n",
        "print(confusion_matrix(y_test, grid_predictions))      \n",
        "# print f1 score\n",
        "# print(f1_score(y_test, grid_predictions, average='weighted'))        "
      ]
    },
    {
      "cell_type": "code",
      "execution_count": null,
      "metadata": {
        "id": "tj5G9CRrQ1uD"
      },
      "outputs": [],
      "source": [
        "# Random Forest\n",
        "param_grid = {'n_estimators': [10, 50, 100, 200, 500],\n",
        "                'max_features': ['sqrt', 'log2'],\n",
        "                'max_depth' : [4,5,6,7,8, 12, 16],\n",
        "                'criterion' :['gini', 'entropy']}\n",
        "grid = GridSearchCV(RandomForestClassifier(), param_grid, refit=True, cv=5, scoring=scorer)\n",
        "grid.fit(X_train, y_train)\n",
        "# output cv results to csv\n",
        "pd.DataFrame(grid.cv_results_).to_csv( 'Results/random_forest_grid_search_results.csv')"
      ]
    },
    {
      "cell_type": "code",
      "execution_count": null,
      "metadata": {
        "colab": {
          "base_uri": "https://localhost:8080/"
        },
        "id": "gwCLuq4xQ1uE",
        "outputId": "d2127f36-fcfb-4229-d054-e310db3feb86"
      },
      "outputs": [
        {
          "name": "stdout",
          "output_type": "stream",
          "text": [
            "{'criterion': 'entropy', 'max_depth': 12, 'max_features': 'log2', 'n_estimators': 200}\n",
            "RandomForestClassifier(criterion='entropy', max_depth=12, max_features='log2',\n",
            "                       n_estimators=200)\n",
            "              precision    recall  f1-score   support\n",
            "\n",
            "           1       1.00      1.00      1.00       132\n",
            "           2       0.99      0.99      0.99       138\n",
            "           3       0.98      0.98      0.98       125\n",
            "           4       0.99      0.99      0.99       149\n",
            "\n",
            "    accuracy                           0.99       544\n",
            "   macro avg       0.99      0.99      0.99       544\n",
            "weighted avg       0.99      0.99      0.99       544\n",
            "\n",
            "[[132   0   0   0]\n",
            " [  0 136   2   0]\n",
            " [  0   2 122   1]\n",
            " [  0   0   1 148]]\n",
            "0.9889705882352942\n"
          ]
        }
      ],
      "source": [
        "# print best parameter after tuning\n",
        "print(grid.best_params_)\n",
        "print(grid.best_estimator_)\n",
        "grid_predictions = grid.predict(X_test)\n",
        "print(classification_report(y_test, grid_predictions, digits=4))\n",
        "print(confusion_matrix(y_test, grid_predictions))\n",
        "# print(f1_score(y_test, grid_predictions, average='weighted'))"
      ]
    },
    {
      "cell_type": "code",
      "execution_count": null,
      "metadata": {
        "colab": {
          "base_uri": "https://localhost:8080/"
        },
        "id": "E79yDaUThNvw",
        "outputId": "14fbd8bd-291b-4d85-9b52-edce1efb37a1"
      },
      "outputs": [
        {
          "name": "stdout",
          "output_type": "stream",
          "text": [
            "              precision    recall  f1-score   support\n",
            "\n",
            "           1       1.00      1.00      1.00       132\n",
            "           2       1.00      0.99      0.99       138\n",
            "           3       0.98      0.98      0.98       125\n",
            "           4       0.99      0.99      0.99       149\n",
            "\n",
            "    accuracy                           0.99       544\n",
            "   macro avg       0.99      0.99      0.99       544\n",
            "weighted avg       0.99      0.99      0.99       544\n",
            "\n",
            "[[132   0   0   0]\n",
            " [  0 136   2   0]\n",
            " [  0   0 123   2]\n",
            " [  0   0   1 148]]\n",
            "0.9908229367862087\n"
          ]
        }
      ],
      "source": [
        "{'criterion': 'entropy', 'max_depth': 12, 'max_features': 'sqrt', 'n_estimators': 100}\n",
        "clf = RandomForestClassifier(criterion='entropy', max_depth=12, max_features='sqrt', n_estimators=100)\n",
        "clf.fit(X_train, y_train)\n",
        "predictions = clf.predict(X_test)\n",
        "\n",
        "print(classification_report(y_test, predictions, digits=4))\n",
        "print(confusion_matrix(y_test, predictions))\n",
        "# print f1 score\n",
        "# print(f1_score(y_test, predictions, average='weighted'))"
      ]
    },
    {
      "cell_type": "markdown",
      "metadata": {
        "id": "2jZtTzKVZWhA"
      },
      "source": [
        "# No Resampling"
      ]
    },
    {
      "cell_type": "code",
      "execution_count": 21,
      "metadata": {
        "id": "M-YVTUkuZn_x"
      },
      "outputs": [],
      "source": [
        "df_p = preprocess(df, resample_=False)"
      ]
    },
    {
      "cell_type": "code",
      "execution_count": 22,
      "metadata": {
        "id": "LhRWiJvvZn_z"
      },
      "outputs": [],
      "source": [
        "X_train, X_test, y_train, y_test = train_test_split(df_p.iloc[:, :-1], df_p.iloc[:, -1], test_size=0.2, random_state=0)"
      ]
    },
    {
      "cell_type": "code",
      "execution_count": 20,
      "metadata": {
        "id": "il32NqYYZn_z"
      },
      "outputs": [],
      "source": [
        "scorer = make_scorer(f1_score, average='weighted')"
      ]
    },
    {
      "cell_type": "code",
      "execution_count": null,
      "metadata": {
        "colab": {
          "base_uri": "https://localhost:8080/"
        },
        "id": "rBZSWbYZZn_z",
        "outputId": "0d17b2c0-1fb9-430a-9a1e-d0c867a13f86"
      },
      "outputs": [
        {
          "name": "stdout",
          "output_type": "stream",
          "text": [
            "mkdir: cannot create directory ‘Results/’: File exists\n"
          ]
        }
      ],
      "source": [
        "!mkdir Results/"
      ]
    },
    {
      "cell_type": "code",
      "execution_count": null,
      "metadata": {
        "id": "uKMUFOIlZn_z"
      },
      "outputs": [],
      "source": [
        "# GridSearch\n",
        "from sklearn.model_selection import GridSearchCV\n",
        "from sklearn.metrics import classification_report\n",
        "from sklearn.metrics import confusion_matrix\n",
        "\n",
        "# SVM\n",
        "param_grid = {'C': [0.1, 1, 3, 5, 7, 10, 12, 14, 15],\n",
        "                'gamma': [4, 2, 1, 0.1, 0.01, 0.001, 0.0001],\n",
        "                'kernel': ['rbf', 'poly', 'sigmoid', 'linear']}\n",
        "\n",
        "grid = GridSearchCV(SVC(), param_grid, refit=True, cv=5, scoring=scorer)\n",
        "grid.fit(X_train, y_train)\n",
        "# output the cv result to csv\n",
        "pd.DataFrame(grid.cv_results_).to_csv('Results/svm_grid_search_cv.csv')\n"
      ]
    },
    {
      "cell_type": "code",
      "execution_count": null,
      "metadata": {
        "colab": {
          "base_uri": "https://localhost:8080/"
        },
        "id": "J1W_TL9FZn_0",
        "outputId": "fc2e201d-636c-4ae9-e595-fa32a54e72ea"
      },
      "outputs": [
        {
          "name": "stdout",
          "output_type": "stream",
          "text": [
            "{'C': 10, 'gamma': 4, 'kernel': 'linear'}\n",
            "SVC(C=10, gamma=4, kernel='linear')\n",
            "              precision    recall  f1-score   support\n",
            "\n",
            "           1       0.98      1.00      0.99        40\n",
            "           2       1.00      0.98      0.99        41\n",
            "           3       0.98      1.00      0.99        87\n",
            "           4       1.00      0.98      0.99       128\n",
            "\n",
            "    accuracy                           0.99       296\n",
            "   macro avg       0.99      0.99      0.99       296\n",
            "weighted avg       0.99      0.99      0.99       296\n",
            "\n",
            "[[ 40   0   0   0]\n",
            " [  1  40   0   0]\n",
            " [  0   0  87   0]\n",
            " [  0   0   2 126]]\n",
            "0.9898766541237013\n"
          ]
        }
      ],
      "source": [
        "\n",
        "print(grid.best_params_)\n",
        "print(grid.best_estimator_)\n",
        "grid_predictions = grid.predict(X_test)\n",
        "print(classification_report(y_test, grid_predictions, digits=4))\n",
        "print(confusion_matrix(y_test, grid_predictions))      \n",
        "# print f1 score\n",
        "# print(f1_score(y_test, grid_predictions, average='weighted'))        \n"
      ]
    },
    {
      "cell_type": "code",
      "execution_count": null,
      "metadata": {
        "id": "deFTXzXYZn_0"
      },
      "outputs": [],
      "source": [
        "# Random Forest\n",
        "param_grid = {'n_estimators': [10, 50, 100, 200, 500],\n",
        "                'max_features': ['sqrt', 'log2'],\n",
        "                'max_depth' : [4,5,6,7,8, 12, 16],\n",
        "                'criterion' :['gini', 'entropy']}\n",
        "grid = GridSearchCV(RandomForestClassifier(), param_grid, refit=True, cv=5, scoring=scorer)\n",
        "grid.fit(X_train, y_train)\n",
        "# output cv results to csv\n",
        "pd.DataFrame(grid.cv_results_).to_csv( 'Results/random_forest_grid_search_results.csv')"
      ]
    },
    {
      "cell_type": "code",
      "execution_count": null,
      "metadata": {
        "colab": {
          "base_uri": "https://localhost:8080/"
        },
        "id": "UgwgXbyaZn_0",
        "outputId": "0f5a2e25-629a-4ddf-8d1f-b43b55a7ec88"
      },
      "outputs": [
        {
          "name": "stdout",
          "output_type": "stream",
          "text": [
            "{'criterion': 'entropy', 'max_depth': 12, 'max_features': 'log2', 'n_estimators': 200}\n",
            "RandomForestClassifier(criterion='entropy', max_depth=12, max_features='log2',\n",
            "                       n_estimators=200)\n",
            "              precision    recall  f1-score   support\n",
            "\n",
            "           1       1.00      0.97      0.99        40\n",
            "           2       0.90      0.90      0.90        41\n",
            "           3       0.93      0.94      0.94        87\n",
            "           4       0.98      0.98      0.98       128\n",
            "\n",
            "    accuracy                           0.96       296\n",
            "   macro avg       0.95      0.95      0.95       296\n",
            "weighted avg       0.96      0.96      0.96       296\n",
            "\n",
            "[[ 39   1   0   0]\n",
            " [  0  37   4   0]\n",
            " [  0   2  82   3]\n",
            " [  0   1   2 125]]\n",
            "0.9561658765456235\n"
          ]
        }
      ],
      "source": [
        "# print best parameter after tuning\n",
        "print(grid.best_params_)\n",
        "print(grid.best_estimator_)\n",
        "grid_predictions = grid.predict(X_test)\n",
        "print(classification_report(y_test, grid_predictions, digits=4))\n",
        "print(confusion_matrix(y_test, grid_predictions))\n",
        "# print f1 score\n",
        "# print(f1_score(y_test, grid_predictions, average='weighted'))\n"
      ]
    },
    {
      "cell_type": "code",
      "execution_count": null,
      "metadata": {},
      "outputs": [],
      "source": [
        "# LightGBM\n",
        "param_grid = {\n",
        "    # 'learning_rate': [0.01, 0.05, 0.1, 0.2],\n",
        "    'learning_rate': [0.05, 0.1, 0.2, .3, .5],\n",
        "    # 'n_estimators': [50, 100, 200, 500],\n",
        "    'n_estimators': [100, 500, 1000],\n",
        "    # 'num_leaves': [4, 8, 16, 32, 64],\n",
        "    # 'num_leaves': [32, 64],\n",
        "    # 'max_depth': [4, 5, 6, 7, 8, 12, 16],\n",
        "    # 'max_depth': [12, 16],\n",
        "    'boosting_type' : ['gbdt', 'dart', 'goss'],\n",
        "    'objective' : ['multiclass'],\n",
        "    # 'random_state' : [501],\n",
        "    # 'colsample_bytree' : [0.65, 0.66],\n",
        "    # 'subsample' : [0.7,0.75],\n",
        "    # 'reg_alpha' : [0.001, 1, 2.0],\n",
        "    # 'reg_lambda' : [0.001, 1, 2.0],\n",
        "}\n",
        "grid = GridSearchCV(LGBMClassifier(), param_grid, refit=True, cv=5, scoring=scorer)\n",
        "grid.fit(X_train, y_train)\n",
        "# output cv results to csv\n",
        "pd.DataFrame(grid.cv_results_).to_csv( 'Results/lightGBM_grid_search_results.csv')"
      ]
    },
    {
      "cell_type": "code",
      "execution_count": null,
      "metadata": {},
      "outputs": [],
      "source": [
        "# print best parameter after tuning\n",
        "print(grid.best_params_)\n",
        "print(grid.best_estimator_)\n",
        "grid_predictions = grid.predict(X_test)\n",
        "print(classification_report(y_test, grid_predictions, digits=4))\n",
        "print(confusion_matrix(y_test, grid_predictions))\n",
        "# print f1 score\n",
        "# print(f1_score(y_test, grid_predictions, average='weighted'))\n"
      ]
    },
    {
      "cell_type": "code",
      "execution_count": 23,
      "metadata": {},
      "outputs": [
        {
          "data": {
            "text/html": [
              "<style>#sk-container-id-1 {color: black;background-color: white;}#sk-container-id-1 pre{padding: 0;}#sk-container-id-1 div.sk-toggleable {background-color: white;}#sk-container-id-1 label.sk-toggleable__label {cursor: pointer;display: block;width: 100%;margin-bottom: 0;padding: 0.3em;box-sizing: border-box;text-align: center;}#sk-container-id-1 label.sk-toggleable__label-arrow:before {content: \"▸\";float: left;margin-right: 0.25em;color: #696969;}#sk-container-id-1 label.sk-toggleable__label-arrow:hover:before {color: black;}#sk-container-id-1 div.sk-estimator:hover label.sk-toggleable__label-arrow:before {color: black;}#sk-container-id-1 div.sk-toggleable__content {max-height: 0;max-width: 0;overflow: hidden;text-align: left;background-color: #f0f8ff;}#sk-container-id-1 div.sk-toggleable__content pre {margin: 0.2em;color: black;border-radius: 0.25em;background-color: #f0f8ff;}#sk-container-id-1 input.sk-toggleable__control:checked~div.sk-toggleable__content {max-height: 200px;max-width: 100%;overflow: auto;}#sk-container-id-1 input.sk-toggleable__control:checked~label.sk-toggleable__label-arrow:before {content: \"▾\";}#sk-container-id-1 div.sk-estimator input.sk-toggleable__control:checked~label.sk-toggleable__label {background-color: #d4ebff;}#sk-container-id-1 div.sk-label input.sk-toggleable__control:checked~label.sk-toggleable__label {background-color: #d4ebff;}#sk-container-id-1 input.sk-hidden--visually {border: 0;clip: rect(1px 1px 1px 1px);clip: rect(1px, 1px, 1px, 1px);height: 1px;margin: -1px;overflow: hidden;padding: 0;position: absolute;width: 1px;}#sk-container-id-1 div.sk-estimator {font-family: monospace;background-color: #f0f8ff;border: 1px dotted black;border-radius: 0.25em;box-sizing: border-box;margin-bottom: 0.5em;}#sk-container-id-1 div.sk-estimator:hover {background-color: #d4ebff;}#sk-container-id-1 div.sk-parallel-item::after {content: \"\";width: 100%;border-bottom: 1px solid gray;flex-grow: 1;}#sk-container-id-1 div.sk-label:hover label.sk-toggleable__label {background-color: #d4ebff;}#sk-container-id-1 div.sk-serial::before {content: \"\";position: absolute;border-left: 1px solid gray;box-sizing: border-box;top: 0;bottom: 0;left: 50%;z-index: 0;}#sk-container-id-1 div.sk-serial {display: flex;flex-direction: column;align-items: center;background-color: white;padding-right: 0.2em;padding-left: 0.2em;position: relative;}#sk-container-id-1 div.sk-item {position: relative;z-index: 1;}#sk-container-id-1 div.sk-parallel {display: flex;align-items: stretch;justify-content: center;background-color: white;position: relative;}#sk-container-id-1 div.sk-item::before, #sk-container-id-1 div.sk-parallel-item::before {content: \"\";position: absolute;border-left: 1px solid gray;box-sizing: border-box;top: 0;bottom: 0;left: 50%;z-index: -1;}#sk-container-id-1 div.sk-parallel-item {display: flex;flex-direction: column;z-index: 1;position: relative;background-color: white;}#sk-container-id-1 div.sk-parallel-item:first-child::after {align-self: flex-end;width: 50%;}#sk-container-id-1 div.sk-parallel-item:last-child::after {align-self: flex-start;width: 50%;}#sk-container-id-1 div.sk-parallel-item:only-child::after {width: 0;}#sk-container-id-1 div.sk-dashed-wrapped {border: 1px dashed gray;margin: 0 0.4em 0.5em 0.4em;box-sizing: border-box;padding-bottom: 0.4em;background-color: white;}#sk-container-id-1 div.sk-label label {font-family: monospace;font-weight: bold;display: inline-block;line-height: 1.2em;}#sk-container-id-1 div.sk-label-container {text-align: center;}#sk-container-id-1 div.sk-container {/* jupyter's `normalize.less` sets `[hidden] { display: none; }` but bootstrap.min.css set `[hidden] { display: none !important; }` so we also need the `!important` here to be able to override the default hidden behavior on the sphinx rendered scikit-learn.org. See: https://github.com/scikit-learn/scikit-learn/issues/21755 */display: inline-block !important;position: relative;}#sk-container-id-1 div.sk-text-repr-fallback {display: none;}</style><div id=\"sk-container-id-1\" class=\"sk-top-container\"><div class=\"sk-text-repr-fallback\"><pre>GridSearchCV(cv=5,\n",
              "             estimator=XGBClassifier(base_score=None, booster=None,\n",
              "                                     callbacks=None, colsample_bylevel=None,\n",
              "                                     colsample_bynode=None,\n",
              "                                     colsample_bytree=None,\n",
              "                                     early_stopping_rounds=None,\n",
              "                                     enable_categorical=False, eval_metric=None,\n",
              "                                     feature_types=None, gamma=None,\n",
              "                                     gpu_id=None, grow_policy=None,\n",
              "                                     importance_type=None,\n",
              "                                     interaction_constraints=None,\n",
              "                                     learning_rate=None,...\n",
              "                                     max_leaves=None, min_child_weight=None,\n",
              "                                     missing=nan, monotone_constraints=None,\n",
              "                                     n_estimators=100, n_jobs=None,\n",
              "                                     num_parallel_tree=None, predictor=None,\n",
              "                                     random_state=None, ...),\n",
              "             param_grid={&#x27;learning_rate&#x27;: [0.05, 0.1, 0.2, 0.3],\n",
              "                         &#x27;n_estimators&#x27;: [100, 1000],\n",
              "                         &#x27;objective&#x27;: [&#x27;multi:softmax&#x27;],\n",
              "                         &#x27;reg_alpha&#x27;: [0.1, 1, 1.2, 2],\n",
              "                         &#x27;reg_lambda&#x27;: [0.1, 1, 1.2, 1.4, 2]},\n",
              "             scoring=make_scorer(f1_score, average=weighted))</pre><b>In a Jupyter environment, please rerun this cell to show the HTML representation or trust the notebook. <br />On GitHub, the HTML representation is unable to render, please try loading this page with nbviewer.org.</b></div><div class=\"sk-container\" hidden><div class=\"sk-item sk-dashed-wrapped\"><div class=\"sk-label-container\"><div class=\"sk-label sk-toggleable\"><input class=\"sk-toggleable__control sk-hidden--visually\" id=\"sk-estimator-id-1\" type=\"checkbox\" ><label for=\"sk-estimator-id-1\" class=\"sk-toggleable__label sk-toggleable__label-arrow\">GridSearchCV</label><div class=\"sk-toggleable__content\"><pre>GridSearchCV(cv=5,\n",
              "             estimator=XGBClassifier(base_score=None, booster=None,\n",
              "                                     callbacks=None, colsample_bylevel=None,\n",
              "                                     colsample_bynode=None,\n",
              "                                     colsample_bytree=None,\n",
              "                                     early_stopping_rounds=None,\n",
              "                                     enable_categorical=False, eval_metric=None,\n",
              "                                     feature_types=None, gamma=None,\n",
              "                                     gpu_id=None, grow_policy=None,\n",
              "                                     importance_type=None,\n",
              "                                     interaction_constraints=None,\n",
              "                                     learning_rate=None,...\n",
              "                                     max_leaves=None, min_child_weight=None,\n",
              "                                     missing=nan, monotone_constraints=None,\n",
              "                                     n_estimators=100, n_jobs=None,\n",
              "                                     num_parallel_tree=None, predictor=None,\n",
              "                                     random_state=None, ...),\n",
              "             param_grid={&#x27;learning_rate&#x27;: [0.05, 0.1, 0.2, 0.3],\n",
              "                         &#x27;n_estimators&#x27;: [100, 1000],\n",
              "                         &#x27;objective&#x27;: [&#x27;multi:softmax&#x27;],\n",
              "                         &#x27;reg_alpha&#x27;: [0.1, 1, 1.2, 2],\n",
              "                         &#x27;reg_lambda&#x27;: [0.1, 1, 1.2, 1.4, 2]},\n",
              "             scoring=make_scorer(f1_score, average=weighted))</pre></div></div></div><div class=\"sk-parallel\"><div class=\"sk-parallel-item\"><div class=\"sk-item\"><div class=\"sk-label-container\"><div class=\"sk-label sk-toggleable\"><input class=\"sk-toggleable__control sk-hidden--visually\" id=\"sk-estimator-id-2\" type=\"checkbox\" ><label for=\"sk-estimator-id-2\" class=\"sk-toggleable__label sk-toggleable__label-arrow\">estimator: XGBClassifier</label><div class=\"sk-toggleable__content\"><pre>XGBClassifier(base_score=None, booster=None, callbacks=None,\n",
              "              colsample_bylevel=None, colsample_bynode=None,\n",
              "              colsample_bytree=None, early_stopping_rounds=None,\n",
              "              enable_categorical=False, eval_metric=None, feature_types=None,\n",
              "              gamma=None, gpu_id=None, grow_policy=None, importance_type=None,\n",
              "              interaction_constraints=None, learning_rate=None, max_bin=None,\n",
              "              max_cat_threshold=None, max_cat_to_onehot=None,\n",
              "              max_delta_step=None, max_depth=None, max_leaves=None,\n",
              "              min_child_weight=None, missing=nan, monotone_constraints=None,\n",
              "              n_estimators=100, n_jobs=None, num_parallel_tree=None,\n",
              "              predictor=None, random_state=None, ...)</pre></div></div></div><div class=\"sk-serial\"><div class=\"sk-item\"><div class=\"sk-estimator sk-toggleable\"><input class=\"sk-toggleable__control sk-hidden--visually\" id=\"sk-estimator-id-3\" type=\"checkbox\" ><label for=\"sk-estimator-id-3\" class=\"sk-toggleable__label sk-toggleable__label-arrow\">XGBClassifier</label><div class=\"sk-toggleable__content\"><pre>XGBClassifier(base_score=None, booster=None, callbacks=None,\n",
              "              colsample_bylevel=None, colsample_bynode=None,\n",
              "              colsample_bytree=None, early_stopping_rounds=None,\n",
              "              enable_categorical=False, eval_metric=None, feature_types=None,\n",
              "              gamma=None, gpu_id=None, grow_policy=None, importance_type=None,\n",
              "              interaction_constraints=None, learning_rate=None, max_bin=None,\n",
              "              max_cat_threshold=None, max_cat_to_onehot=None,\n",
              "              max_delta_step=None, max_depth=None, max_leaves=None,\n",
              "              min_child_weight=None, missing=nan, monotone_constraints=None,\n",
              "              n_estimators=100, n_jobs=None, num_parallel_tree=None,\n",
              "              predictor=None, random_state=None, ...)</pre></div></div></div></div></div></div></div></div></div></div>"
            ],
            "text/plain": [
              "GridSearchCV(cv=5,\n",
              "             estimator=XGBClassifier(base_score=None, booster=None,\n",
              "                                     callbacks=None, colsample_bylevel=None,\n",
              "                                     colsample_bynode=None,\n",
              "                                     colsample_bytree=None,\n",
              "                                     early_stopping_rounds=None,\n",
              "                                     enable_categorical=False, eval_metric=None,\n",
              "                                     feature_types=None, gamma=None,\n",
              "                                     gpu_id=None, grow_policy=None,\n",
              "                                     importance_type=None,\n",
              "                                     interaction_constraints=None,\n",
              "                                     learning_rate=None,...\n",
              "                                     max_leaves=None, min_child_weight=None,\n",
              "                                     missing=nan, monotone_constraints=None,\n",
              "                                     n_estimators=100, n_jobs=None,\n",
              "                                     num_parallel_tree=None, predictor=None,\n",
              "                                     random_state=None, ...),\n",
              "             param_grid={'learning_rate': [0.05, 0.1, 0.2, 0.3],\n",
              "                         'n_estimators': [100, 1000],\n",
              "                         'objective': ['multi:softmax'],\n",
              "                         'reg_alpha': [0.1, 1, 1.2, 2],\n",
              "                         'reg_lambda': [0.1, 1, 1.2, 1.4, 2]},\n",
              "             scoring=make_scorer(f1_score, average=weighted))"
            ]
          },
          "execution_count": 19,
          "metadata": {},
          "output_type": "execute_result"
        }
      ],
      "source": [
        "# XGBoost\n",
        "param_grid = {\n",
        "    # 'learning_rate': [0.01, 0.05, 0.1, 0.2],\n",
        "    'learning_rate': [0.05, 0.1, 0.2, .3],\n",
        "    # 'n_estimators': [10, 50, 100, 200, 500],\n",
        "    'n_estimators': [100, 1000],\n",
        "    # 'max_depth': [4, 5, 6, 7, 8, 12, 16],\n",
        "    # 'max_depth': [4, 8, 12, 16],\n",
        "    # 'booster' : ['gbtree', 'gblinear', 'dart'],\n",
        "    'objective' : ['multi:softmax'],\n",
        "    # 'random_state' : [501], # Updated from 'seed'\n",
        "    # 'colsample_bytree' : [0.65, 0.66],\n",
        "    # 'subsample' : [0.7,0.75],\n",
        "    'reg_alpha' : [.1, 1,1.2, 2],\n",
        "    'reg_lambda' : [.1, 1,1.2,1.4, 2],\n",
        "}\n",
        "\n",
        "grid = GridSearchCV(XGBClassifier(), param_grid, refit=True, cv=5, scoring=scorer)\n",
        "grid.fit(X_train, y_train)\n",
        "# output cv results to csv\n",
        "pd.DataFrame(grid.cv_results_).to_csv( 'Results/XGBoost_grid_search_results.csv')"
      ]
    },
    {
      "cell_type": "code",
      "execution_count": null,
      "metadata": {},
      "outputs": [
        {
          "name": "stdout",
          "output_type": "stream",
          "text": [
            "{'learning_rate': 0.2, 'n_estimators': 1000, 'objective': 'multi:softmax', 'reg_alpha': 0.1, 'reg_lambda': 1}\n",
            "XGBClassifier(base_score=None, booster=None, callbacks=None,\n",
            "              colsample_bylevel=None, colsample_bynode=None,\n",
            "              colsample_bytree=None, early_stopping_rounds=None,\n",
            "              enable_categorical=False, eval_metric=None, feature_types=None,\n",
            "              gamma=None, gpu_id=None, grow_policy=None, importance_type=None,\n",
            "              interaction_constraints=None, learning_rate=0.2, max_bin=None,\n",
            "              max_cat_threshold=None, max_cat_to_onehot=None,\n",
            "              max_delta_step=None, max_depth=None, max_leaves=None,\n",
            "              min_child_weight=None, missing=nan, monotone_constraints=None,\n",
            "              n_estimators=1000, n_jobs=None, num_parallel_tree=None,\n",
            "              objective='multi:softmax', predictor=None, ...)\n",
            "              precision    recall  f1-score   support\n",
            "\n",
            "           0     0.9750    0.9750    0.9750        40\n",
            "           1     0.9286    0.9512    0.9398        41\n",
            "           2     0.9643    0.9310    0.9474        87\n",
            "           3     0.9692    0.9844    0.9767       128\n",
            "\n",
            "    accuracy                         0.9628       296\n",
            "   macro avg     0.9593    0.9604    0.9597       296\n",
            "weighted avg     0.9629    0.9628    0.9628       296\n",
            "\n",
            "[[ 39   1   0   0]\n",
            " [  1  39   1   0]\n",
            " [  0   2  81   4]\n",
            " [  0   0   2 126]]\n"
          ]
        }
      ],
      "source": [
        "# print best parameter after tuning\n",
        "print(grid.best_params_)\n",
        "print(grid.best_estimator_)\n",
        "grid_predictions = grid.predict(X_test)\n",
        "print(classification_report(y_test, grid_predictions, digits=4))\n",
        "print(confusion_matrix(y_test, grid_predictions))\n",
        "# print f1 score\n",
        "# print(f1_score(y_test, grid_predictions, average='weighted'))\n"
      ]
    }
  ],
  "metadata": {
    "colab": {
      "provenance": []
    },
    "kernelspec": {
      "display_name": "Python 3 (ipykernel)",
      "language": "python",
      "name": "python3"
    },
    "language_info": {
      "codemirror_mode": {
        "name": "ipython",
        "version": 3
      },
      "file_extension": ".py",
      "mimetype": "text/x-python",
      "name": "python",
      "nbconvert_exporter": "python",
      "pygments_lexer": "ipython3",
      "version": "3.10.3"
    }
  },
  "nbformat": 4,
  "nbformat_minor": 0
}
