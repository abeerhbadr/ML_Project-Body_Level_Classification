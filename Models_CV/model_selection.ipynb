{
  "cells": [
    {
      "cell_type": "code",
      "execution_count": 57,
      "metadata": {
        "id": "V_-C6N_TQ1t8"
      },
      "outputs": [],
      "source": [
        "import sys; sys.path.append('../Preprocess/');\n",
        "from preprocess import *\n",
        "from sklearn.model_selection import train_test_split\n",
        "from sklearn.metrics import f1_score, accuracy_score, precision_score, recall_score, make_scorer\n",
        "from sklearn.svm import SVC\n",
        "from sklearn.ensemble import RandomForestClassifier\n",
        "import numpy as np\n",
        "import pandas as pd"
      ]
    },
    {
      "cell_type": "code",
      "execution_count": 75,
      "metadata": {
        "id": "pGgYzy6vQ1uA"
      },
      "outputs": [],
      "source": [
        "df = pd.read_csv('../Dataset/body_level_classification_train.csv')"
      ]
    },
    {
      "cell_type": "code",
      "execution_count": 76,
      "metadata": {
        "id": "guhDLuNbQ1uB"
      },
      "outputs": [],
      "source": [
        "df_p = preprocess(df, resample_=True)"
      ]
    },
    {
      "cell_type": "code",
      "execution_count": 77,
      "metadata": {
        "id": "xeINhKI1Q1uB"
      },
      "outputs": [],
      "source": [
        "X_train, X_test, y_train, y_test = train_test_split(df_p.iloc[:, :-1], df_p.iloc[:, -1], test_size=0.2, random_state=0)"
      ]
    },
    {
      "cell_type": "code",
      "execution_count": 78,
      "metadata": {
        "id": "gXOCYIgBTp4f"
      },
      "outputs": [],
      "source": [
        "scorer = make_scorer(f1_score, average='weighted')"
      ]
    },
    {
      "cell_type": "code",
      "execution_count": 62,
      "metadata": {
        "colab": {
          "base_uri": "https://localhost:8080/"
        },
        "id": "g_hbMPI8VBcI",
        "outputId": "79670300-66d2-4b9f-fca5-c32d5437756e"
      },
      "outputs": [
        {
          "name": "stdout",
          "output_type": "stream",
          "text": [
            "mkdir: cannot create directory ‘Results/’: File exists\n"
          ]
        }
      ],
      "source": [
        "!mkdir Results/"
      ]
    },
    {
      "cell_type": "code",
      "execution_count": 63,
      "metadata": {
        "id": "FICuoxAxQ1uC"
      },
      "outputs": [],
      "source": [
        "# GridSearch\n",
        "from sklearn.model_selection import GridSearchCV\n",
        "from sklearn.metrics import classification_report\n",
        "from sklearn.metrics import confusion_matrix\n",
        "\n",
        "# SVM\n",
        "param_grid = {'C': [0.1, 1, 3, 5, 7, 10, 12, 14, 15],\n",
        "                'gamma': [4, 2, 1, 0.1, 0.01, 0.001, 0.0001],\n",
        "                'kernel': ['rbf', 'poly', 'sigmoid', 'linear']}\n",
        "\n",
        "grid = GridSearchCV(SVC(), param_grid, refit=True, cv=5, scoring=scorer)\n",
        "grid.fit(X_train, y_train)\n",
        "# output the cv result to csv\n",
        "pd.DataFrame(grid.cv_results_).to_csv('Results/svm_grid_search_cv.csv')\n"
      ]
    },
    {
      "cell_type": "code",
      "execution_count": 64,
      "metadata": {
        "colab": {
          "base_uri": "https://localhost:8080/"
        },
        "id": "LQ9Wf0J6Q1uC",
        "outputId": "977200e4-33b6-436c-cf02-9462d54ad01b"
      },
      "outputs": [
        {
          "name": "stdout",
          "output_type": "stream",
          "text": [
            "{'C': 15, 'gamma': 4, 'kernel': 'linear'}\n",
            "SVC(C=15, gamma=4, kernel='linear')\n",
            "              precision    recall  f1-score   support\n",
            "\n",
            "           1       0.98      1.00      0.99       132\n",
            "           2       0.99      0.97      0.98       138\n",
            "           3       0.99      0.98      0.99       125\n",
            "           4       0.99      1.00      1.00       149\n",
            "\n",
            "    accuracy                           0.99       544\n",
            "   macro avg       0.99      0.99      0.99       544\n",
            "weighted avg       0.99      0.99      0.99       544\n",
            "\n",
            "[[132   0   0   0]\n",
            " [  3 134   1   0]\n",
            " [  0   1 123   1]\n",
            " [  0   0   0 149]]\n",
            "0.9889430690248693\n"
          ]
        }
      ],
      "source": [
        "\n",
        "print(grid.best_params_)\n",
        "print(grid.best_estimator_)\n",
        "grid_predictions = grid.predict(X_test)\n",
        "print(classification_report(y_test, grid_predictions))\n",
        "print(confusion_matrix(y_test, grid_predictions))      \n",
        "# print f1 score\n",
        "print(f1_score(y_test, grid_predictions, average='weighted'))        \n"
      ]
    },
    {
      "cell_type": "code",
      "execution_count": 65,
      "metadata": {
        "id": "tj5G9CRrQ1uD"
      },
      "outputs": [],
      "source": [
        "# Random Forest\n",
        "param_grid = {'n_estimators': [10, 50, 100, 200, 500],\n",
        "                'max_features': ['sqrt', 'log2'],\n",
        "                'max_depth' : [4,5,6,7,8, 12, 16],\n",
        "                'criterion' :['gini', 'entropy']}\n",
        "grid = GridSearchCV(RandomForestClassifier(), param_grid, refit=True, cv=5, scoring=scorer)\n",
        "grid.fit(X_train, y_train)\n",
        "# output cv results to csv\n",
        "pd.DataFrame(grid.cv_results_).to_csv( 'Results/random_forest_grid_search_results.csv')"
      ]
    },
    {
      "cell_type": "code",
      "execution_count": 66,
      "metadata": {
        "colab": {
          "base_uri": "https://localhost:8080/"
        },
        "id": "gwCLuq4xQ1uE",
        "outputId": "d2127f36-fcfb-4229-d054-e310db3feb86"
      },
      "outputs": [
        {
          "name": "stdout",
          "output_type": "stream",
          "text": [
            "{'criterion': 'entropy', 'max_depth': 12, 'max_features': 'log2', 'n_estimators': 200}\n",
            "RandomForestClassifier(criterion='entropy', max_depth=12, max_features='log2',\n",
            "                       n_estimators=200)\n",
            "              precision    recall  f1-score   support\n",
            "\n",
            "           1       1.00      1.00      1.00       132\n",
            "           2       0.99      0.99      0.99       138\n",
            "           3       0.98      0.98      0.98       125\n",
            "           4       0.99      0.99      0.99       149\n",
            "\n",
            "    accuracy                           0.99       544\n",
            "   macro avg       0.99      0.99      0.99       544\n",
            "weighted avg       0.99      0.99      0.99       544\n",
            "\n",
            "[[132   0   0   0]\n",
            " [  0 136   2   0]\n",
            " [  0   2 122   1]\n",
            " [  0   0   1 148]]\n",
            "0.9889705882352942\n"
          ]
        }
      ],
      "source": [
        "# print best parameter after tuning\n",
        "print(grid.best_params_)\n",
        "print(grid.best_estimator_)\n",
        "grid_predictions = grid.predict(X_test)\n",
        "print(classification_report(y_test, grid_predictions))\n",
        "print(confusion_matrix(y_test, grid_predictions))\n",
        "# print f1 score\n",
        "print(f1_score(y_test, grid_predictions, average='weighted'))\n"
      ]
    },
    {
      "cell_type": "code",
      "execution_count": 80,
      "metadata": {
        "colab": {
          "base_uri": "https://localhost:8080/"
        },
        "id": "E79yDaUThNvw",
        "outputId": "14fbd8bd-291b-4d85-9b52-edce1efb37a1"
      },
      "outputs": [
        {
          "name": "stdout",
          "output_type": "stream",
          "text": [
            "              precision    recall  f1-score   support\n",
            "\n",
            "           1       1.00      1.00      1.00       132\n",
            "           2       1.00      0.99      0.99       138\n",
            "           3       0.98      0.98      0.98       125\n",
            "           4       0.99      0.99      0.99       149\n",
            "\n",
            "    accuracy                           0.99       544\n",
            "   macro avg       0.99      0.99      0.99       544\n",
            "weighted avg       0.99      0.99      0.99       544\n",
            "\n",
            "[[132   0   0   0]\n",
            " [  0 136   2   0]\n",
            " [  0   0 123   2]\n",
            " [  0   0   1 148]]\n",
            "0.9908229367862087\n"
          ]
        }
      ],
      "source": [
        "{'criterion': 'entropy', 'max_depth': 12, 'max_features': 'sqrt', 'n_estimators': 100}\n",
        "clf = RandomForestClassifier(criterion='entropy', max_depth=12, max_features='sqrt', n_estimators=100)\n",
        "clf.fit(X_train, y_train)\n",
        "predictions = clf.predict(X_test)\n",
        "\n",
        "print(classification_report(y_test, predictions))\n",
        "print(confusion_matrix(y_test, predictions))\n",
        "# print f1 score\n",
        "print(f1_score(y_test, predictions, average='weighted'))"
      ]
    },
    {
      "cell_type": "markdown",
      "metadata": {
        "id": "2jZtTzKVZWhA"
      },
      "source": [
        "# No Resampling"
      ]
    },
    {
      "cell_type": "code",
      "execution_count": 67,
      "metadata": {
        "id": "M-YVTUkuZn_x"
      },
      "outputs": [],
      "source": [
        "df_p = preprocess(df, resample_=False)"
      ]
    },
    {
      "cell_type": "code",
      "execution_count": 68,
      "metadata": {
        "id": "LhRWiJvvZn_z"
      },
      "outputs": [],
      "source": [
        "X_train, X_test, y_train, y_test = train_test_split(df_p.iloc[:, :-1], df_p.iloc[:, -1], test_size=0.2, random_state=0)"
      ]
    },
    {
      "cell_type": "code",
      "execution_count": 69,
      "metadata": {
        "id": "il32NqYYZn_z"
      },
      "outputs": [],
      "source": [
        "scorer = make_scorer(f1_score, average='weighted')"
      ]
    },
    {
      "cell_type": "code",
      "execution_count": 70,
      "metadata": {
        "colab": {
          "base_uri": "https://localhost:8080/"
        },
        "id": "rBZSWbYZZn_z",
        "outputId": "0d17b2c0-1fb9-430a-9a1e-d0c867a13f86"
      },
      "outputs": [
        {
          "name": "stdout",
          "output_type": "stream",
          "text": [
            "mkdir: cannot create directory ‘Results/’: File exists\n"
          ]
        }
      ],
      "source": [
        "!mkdir Results/"
      ]
    },
    {
      "cell_type": "code",
      "execution_count": 71,
      "metadata": {
        "id": "uKMUFOIlZn_z"
      },
      "outputs": [],
      "source": [
        "# GridSearch\n",
        "from sklearn.model_selection import GridSearchCV\n",
        "from sklearn.metrics import classification_report\n",
        "from sklearn.metrics import confusion_matrix\n",
        "\n",
        "# SVM\n",
        "param_grid = {'C': [0.1, 1, 3, 5, 7, 10, 12, 14, 15],\n",
        "                'gamma': [4, 2, 1, 0.1, 0.01, 0.001, 0.0001],\n",
        "                'kernel': ['rbf', 'poly', 'sigmoid', 'linear']}\n",
        "\n",
        "grid = GridSearchCV(SVC(), param_grid, refit=True, cv=5, scoring=scorer)\n",
        "grid.fit(X_train, y_train)\n",
        "# output the cv result to csv\n",
        "pd.DataFrame(grid.cv_results_).to_csv('Results/svm_grid_search_cv.csv')\n"
      ]
    },
    {
      "cell_type": "code",
      "execution_count": 72,
      "metadata": {
        "colab": {
          "base_uri": "https://localhost:8080/"
        },
        "id": "J1W_TL9FZn_0",
        "outputId": "fc2e201d-636c-4ae9-e595-fa32a54e72ea"
      },
      "outputs": [
        {
          "name": "stdout",
          "output_type": "stream",
          "text": [
            "{'C': 10, 'gamma': 4, 'kernel': 'linear'}\n",
            "SVC(C=10, gamma=4, kernel='linear')\n",
            "              precision    recall  f1-score   support\n",
            "\n",
            "           1       0.98      1.00      0.99        40\n",
            "           2       1.00      0.98      0.99        41\n",
            "           3       0.98      1.00      0.99        87\n",
            "           4       1.00      0.98      0.99       128\n",
            "\n",
            "    accuracy                           0.99       296\n",
            "   macro avg       0.99      0.99      0.99       296\n",
            "weighted avg       0.99      0.99      0.99       296\n",
            "\n",
            "[[ 40   0   0   0]\n",
            " [  1  40   0   0]\n",
            " [  0   0  87   0]\n",
            " [  0   0   2 126]]\n",
            "0.9898766541237013\n"
          ]
        }
      ],
      "source": [
        "\n",
        "print(grid.best_params_)\n",
        "print(grid.best_estimator_)\n",
        "grid_predictions = grid.predict(X_test)\n",
        "print(classification_report(y_test, grid_predictions))\n",
        "print(confusion_matrix(y_test, grid_predictions))      \n",
        "# print f1 score\n",
        "print(f1_score(y_test, grid_predictions, average='weighted'))        \n"
      ]
    },
    {
      "cell_type": "code",
      "execution_count": 73,
      "metadata": {
        "id": "deFTXzXYZn_0"
      },
      "outputs": [],
      "source": [
        "# Random Forest\n",
        "param_grid = {'n_estimators': [10, 50, 100, 200, 500],\n",
        "                'max_features': ['sqrt', 'log2'],\n",
        "                'max_depth' : [4,5,6,7,8, 12, 16],\n",
        "                'criterion' :['gini', 'entropy']}\n",
        "grid = GridSearchCV(RandomForestClassifier(), param_grid, refit=True, cv=5, scoring=scorer)\n",
        "grid.fit(X_train, y_train)\n",
        "# output cv results to csv\n",
        "pd.DataFrame(grid.cv_results_).to_csv( 'Results/random_forest_grid_search_results.csv')"
      ]
    },
    {
      "cell_type": "code",
      "execution_count": 74,
      "metadata": {
        "colab": {
          "base_uri": "https://localhost:8080/"
        },
        "id": "UgwgXbyaZn_0",
        "outputId": "0f5a2e25-629a-4ddf-8d1f-b43b55a7ec88"
      },
      "outputs": [
        {
          "name": "stdout",
          "output_type": "stream",
          "text": [
            "{'criterion': 'entropy', 'max_depth': 12, 'max_features': 'log2', 'n_estimators': 200}\n",
            "RandomForestClassifier(criterion='entropy', max_depth=12, max_features='log2',\n",
            "                       n_estimators=200)\n",
            "              precision    recall  f1-score   support\n",
            "\n",
            "           1       1.00      0.97      0.99        40\n",
            "           2       0.90      0.90      0.90        41\n",
            "           3       0.93      0.94      0.94        87\n",
            "           4       0.98      0.98      0.98       128\n",
            "\n",
            "    accuracy                           0.96       296\n",
            "   macro avg       0.95      0.95      0.95       296\n",
            "weighted avg       0.96      0.96      0.96       296\n",
            "\n",
            "[[ 39   1   0   0]\n",
            " [  0  37   4   0]\n",
            " [  0   2  82   3]\n",
            " [  0   1   2 125]]\n",
            "0.9561658765456235\n"
          ]
        }
      ],
      "source": [
        "# print best parameter after tuning\n",
        "print(grid.best_params_)\n",
        "print(grid.best_estimator_)\n",
        "grid_predictions = grid.predict(X_test)\n",
        "print(classification_report(y_test, grid_predictions))\n",
        "print(confusion_matrix(y_test, grid_predictions))\n",
        "# print f1 score\n",
        "print(f1_score(y_test, grid_predictions, average='weighted'))\n"
      ]
    },
    {
      "cell_type": "code",
      "execution_count": null,
      "metadata": {
        "id": "AN78_T6gdoXh"
      },
      "outputs": [],
      "source": []
    }
  ],
  "metadata": {
    "colab": {
      "provenance": []
    },
    "kernelspec": {
      "display_name": "Python 3 (ipykernel)",
      "language": "python",
      "name": "python3"
    },
    "language_info": {
      "codemirror_mode": {
        "name": "ipython",
        "version": 3
      },
      "file_extension": ".py",
      "mimetype": "text/x-python",
      "name": "python",
      "nbconvert_exporter": "python",
      "pygments_lexer": "ipython3",
      "version": "3.10.6"
    }
  },
  "nbformat": 4,
  "nbformat_minor": 0
}
