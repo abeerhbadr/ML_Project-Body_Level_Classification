{
 "cells": [
  {
   "cell_type": "code",
   "execution_count": 1,
   "metadata": {},
   "outputs": [],
   "source": [
    "import sys; sys.path.append('../Preprocess/');\n",
    "from preprocess import *\n",
    "from sklearn.model_selection import train_test_split\n",
    "from sklearn.metrics import f1_score, accuracy_score, precision_score, recall_score\n",
    "from sklearn.svm import SVC\n",
    "from sklearn.ensemble import RandomForestClassifier\n",
    "import numpy as np\n",
    "import pandas as pd"
   ]
  },
  {
   "cell_type": "code",
   "execution_count": 2,
   "metadata": {},
   "outputs": [],
   "source": [
    "df = pd.read_csv('../Dataset/body_level_classification_train.csv')"
   ]
  },
  {
   "cell_type": "code",
   "execution_count": 3,
   "metadata": {},
   "outputs": [],
   "source": [
    "df_p = preprocess(df, resample_=True)"
   ]
  },
  {
   "cell_type": "code",
   "execution_count": 4,
   "metadata": {},
   "outputs": [],
   "source": [
    "X_train, X_test, y_train, y_test = train_test_split(df_p.iloc[:, :-1], df_p.iloc[:, -1], test_size=0.2, random_state=0)"
   ]
  },
  {
   "cell_type": "code",
   "execution_count": 6,
   "metadata": {},
   "outputs": [],
   "source": [
    "# GridSearch\n",
    "from sklearn.model_selection import GridSearchCV\n",
    "from sklearn.metrics import classification_report\n",
    "from sklearn.metrics import confusion_matrix\n",
    "\n",
    "# SVM\n",
    "param_grid = {'C': [0.1, 1, 3, 5, 7, 10],\n",
    "                'gamma': [1, 0.1, 0.01, 0.001, 0.0001],\n",
    "                'kernel': ['rbf', 'poly', 'sigmoid', 'linear']}\n",
    "grid = GridSearchCV(SVC(), param_grid, refit=True, cv=5)\n",
    "grid.fit(X_train, y_train)\n",
    "# output the cv result to csv\n",
    "pd.DataFrame(grid.cv_results_).to_csv('Results/svm_grid_search_cv.csv')\n"
   ]
  },
  {
   "cell_type": "code",
   "execution_count": 7,
   "metadata": {},
   "outputs": [
    {
     "name": "stdout",
     "output_type": "stream",
     "text": [
      "{'C': 10, 'gamma': 1, 'kernel': 'linear'}\n",
      "SVC(C=10, gamma=1, kernel='linear')\n",
      "              precision    recall  f1-score   support\n",
      "\n",
      "           1       0.98      1.00      0.99       132\n",
      "           2       0.98      0.97      0.97       138\n",
      "           3       0.99      0.98      0.98       125\n",
      "           4       1.00      1.00      1.00       149\n",
      "\n",
      "    accuracy                           0.99       544\n",
      "   macro avg       0.99      0.99      0.99       544\n",
      "weighted avg       0.99      0.99      0.99       544\n",
      "\n",
      "[[132   0   0   0]\n",
      " [  3 134   1   0]\n",
      " [  0   3 122   0]\n",
      " [  0   0   0 149]]\n",
      "0.9867951168078025\n"
     ]
    }
   ],
   "source": [
    "\n",
    "print(grid.best_params_)\n",
    "print(grid.best_estimator_)\n",
    "grid_predictions = grid.predict(X_test)\n",
    "print(classification_report(y_test, grid_predictions))\n",
    "print(confusion_matrix(y_test, grid_predictions))      \n",
    "# print f1 score\n",
    "print(f1_score(y_test, grid_predictions, average='macro'))        \n"
   ]
  },
  {
   "cell_type": "code",
   "execution_count": 8,
   "metadata": {},
   "outputs": [],
   "source": [
    "# Random Forest\n",
    "param_grid = {'n_estimators': [10, 50, 100, 200, 500],\n",
    "                'max_features': ['sqrt', 'log2'],\n",
    "                'max_depth' : [4,5,6,7,8],\n",
    "                'criterion' :['gini', 'entropy']}\n",
    "grid = GridSearchCV(RandomForestClassifier(), param_grid, refit=True, cv=5)\n",
    "grid.fit(X_train, y_train)\n",
    "# output cv results to csv\n",
    "pd.DataFrame(grid.cv_results_).to_csv('Results/random_forest_grid_search_results.csv')"
   ]
  },
  {
   "cell_type": "code",
   "execution_count": 9,
   "metadata": {},
   "outputs": [
    {
     "name": "stdout",
     "output_type": "stream",
     "text": [
      "{'criterion': 'entropy', 'max_depth': 8, 'max_features': 'sqrt', 'n_estimators': 500}\n",
      "RandomForestClassifier(criterion='entropy', max_depth=8, n_estimators=500)\n",
      "              precision    recall  f1-score   support\n",
      "\n",
      "           1       1.00      1.00      1.00       132\n",
      "           2       1.00      0.99      0.99       138\n",
      "           3       0.97      0.98      0.98       125\n",
      "           4       0.99      0.99      0.99       149\n",
      "\n",
      "    accuracy                           0.99       544\n",
      "   macro avg       0.99      0.99      0.99       544\n",
      "weighted avg       0.99      0.99      0.99       544\n",
      "\n",
      "[[132   0   0   0]\n",
      " [  0 136   2   0]\n",
      " [  0   0 123   2]\n",
      " [  0   0   2 147]]\n",
      "0.9888670968313842\n"
     ]
    }
   ],
   "source": [
    "# print best parameter after tuning\n",
    "print(grid.best_params_)\n",
    "print(grid.best_estimator_)\n",
    "grid_predictions = grid.predict(X_test)\n",
    "print(classification_report(y_test, grid_predictions))\n",
    "print(confusion_matrix(y_test, grid_predictions))\n",
    "# print f1 score\n",
    "print(f1_score(y_test, grid_predictions, average='macro'))\n"
   ]
  },
  {
   "cell_type": "code",
   "execution_count": null,
   "metadata": {},
   "outputs": [],
   "source": []
  }
 ],
 "metadata": {
  "kernelspec": {
   "display_name": "Python 3 (ipykernel)",
   "language": "python",
   "name": "python3"
  },
  "language_info": {
   "codemirror_mode": {
    "name": "ipython",
    "version": 3
   },
   "file_extension": ".py",
   "mimetype": "text/x-python",
   "name": "python",
   "nbconvert_exporter": "python",
   "pygments_lexer": "ipython3",
   "version": "3.10.6"
  }
 },
 "nbformat": 4,
 "nbformat_minor": 2
}
